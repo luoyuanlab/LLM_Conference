{
 "cells": [
  {
   "cell_type": "code",
   "execution_count": 1,
   "id": "fa1088ca-5aa9-4691-a091-db46554bf063",
   "metadata": {},
   "outputs": [],
   "source": [
    "import pandas as pd\n",
    "import numpy as np\n",
    "from tqdm import tqdm\n"
   ]
  },
  {
   "cell_type": "code",
   "execution_count": 2,
   "id": "9c088480-206b-4e7e-b7eb-d44f88b271ed",
   "metadata": {},
   "outputs": [],
   "source": [
    "df = pd.read_csv('accepted_paper_podium_AMIA_IS24.csv')"
   ]
  },
  {
   "cell_type": "code",
   "execution_count": 4,
   "id": "53a15983-9c56-464f-9d73-c193e1165ff0",
   "metadata": {},
   "outputs": [],
   "source": [
    "df['txt'] = ('TITLE: ' + df.submission_TITLE + '\\nABSTRACT: '+df.submission_ABSTRACT).tolist()"
   ]
  },
  {
   "cell_type": "code",
   "execution_count": 10,
   "id": "fe56993a-2b7a-4807-a1ce-e1edc9a09f18",
   "metadata": {},
   "outputs": [],
   "source": [
    "import requests\n",
    "import json\n",
    "import time\n",
    "\n",
    "access_token = \"sk-xxx\" # please replace with your openai token\n",
    "headers = {\n",
    "    'Content-Type': 'application/json',\n",
    "    'Authorization': f'Bearer {access_token}'\n",
    "}\n"
   ]
  },
  {
   "cell_type": "markdown",
   "id": "137730b5-7474-4072-9629-b4e498e6664e",
   "metadata": {},
   "source": [
    "# Summarization"
   ]
  },
  {
   "cell_type": "code",
   "execution_count": 18,
   "id": "5ef00040-011d-485f-97b6-52164b573d16",
   "metadata": {},
   "outputs": [
    {
     "name": "stderr",
     "output_type": "stream",
     "text": [
      "100%|█████████████████████████████████████████| 144/144 [08:10<00:00,  3.41s/it]\n"
     ]
    }
   ],
   "source": [
    "summs = []\n",
    "\n",
    "for txt in tqdm(df.txt):\n",
    "    post = {\n",
    "          \"model\": \"gpt-3.5-turbo-1106\",\n",
    "          \"messages\": [\n",
    "            {\"role\": \"user\", \"content\":\"\"\"Summarize it in one sentence \"{}\" \"\"\".format(txt)}]}\n",
    "    \n",
    "    response = requests.post(\"https://api.openai.com/v1/chat/completions\", \n",
    "                             headers=headers, json=post)\n",
    "\n",
    "    summ = response.json()['choices'][0]['message']['content'].strip()\n",
    "\n",
    "    summs.append(summ)\n",
    "\n",
    "\n",
    "    time.sleep(2.0)\n",
    "\n",
    "df['summarization'] = summs\n",
    "    "
   ]
  }
 ],
 "metadata": {
  "kernelspec": {
   "display_name": "Python 3 (ipykernel)",
   "language": "python",
   "name": "python3"
  },
  "language_info": {
   "codemirror_mode": {
    "name": "ipython",
    "version": 3
   },
   "file_extension": ".py",
   "mimetype": "text/x-python",
   "name": "python",
   "nbconvert_exporter": "python",
   "pygments_lexer": "ipython3",
   "version": "3.8.18"
  }
 },
 "nbformat": 4,
 "nbformat_minor": 5
}
