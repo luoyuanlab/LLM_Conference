{
 "cells": [
  {
   "cell_type": "code",
   "execution_count": null,
   "id": "58f29e64-5e13-49e2-b3cf-64233e133977",
   "metadata": {},
   "outputs": [],
   "source": [
    "import pandas as pd\n",
    "import numpy as np\n",
    "from tqdm import tqdm"
   ]
  },
  {
   "cell_type": "code",
   "execution_count": null,
   "id": "d640730d-c406-47f7-a139-99b57581dd0c",
   "metadata": {},
   "outputs": [],
   "source": [
    "df = pd.read_csv('clustered_accepted_paper_podium.csv', index_col=0)"
   ]
  },
  {
   "cell_type": "code",
   "execution_count": null,
   "id": "f7a6888c-3c38-4832-a899-2e3216cf1330",
   "metadata": {},
   "outputs": [],
   "source": [
    "df['txt'] = ('TITLE: ' + df.submission_TITLE + '\\nABSTRACT: '+df.submission_ABSTRACT).tolist()"
   ]
  },
  {
   "cell_type": "code",
   "execution_count": null,
   "id": "f0deebaa-5cff-45a6-bae3-c73e7b4e00a5",
   "metadata": {},
   "outputs": [],
   "source": [
    "import requests\n",
    "import json\n",
    "import time\n",
    "\n",
    "access_token = \"sk-xxx\" # please replace with your openai token\n",
    "headers = {\n",
    "    'Content-Type': 'application/json',\n",
    "    'Authorization': f'Bearer {access_token}'\n",
    "}\n",
    "\n",
    "prompt = \"\"\"\n",
    "The user will paste the titles and abstracts of 6 papers for a conference session.\n",
    "Please generate a name for that session.\n",
    "The session name should be concise, catchy, inspiring and reflecting the content of the 6 papers in that session. \n",
    "The session name should be less than 10 words.\n",
    "Please only return the session name in your response.\n",
    "Below are a few examples of session names, you do not have to select from these examples:\n",
    "\n",
    "[\n",
    "    \"Making Sense of COVID Data\",\n",
    "    \"New and Intriguing Prediction Models\",\n",
    "    \"Enterprise Data Warehouses for Research (EDW4R)\",\n",
    "    \"Applied Decision Support for the Greater Good\",\n",
    "    \"New Gemstones from Data Mining\",\n",
    "    \"Fast Lane to Discovery for Clinical Trial Recruitment\",\n",
    "    \"Phenotypes, Models and Cohorts: The Whopper\",\n",
    "    \"The Many Faces of Digital Medicine\",\n",
    "    \"Building our House: Infrastructure and Informatics\",\n",
    "    \"Analyzing Drug Effects and Finding New Uses\",\n",
    "    \"COVID Predictions: New Methods and Applications\",\n",
    "    \"Patient Engagement in Research and Care\",\n",
    "    \"At the Summit of Omics and Informatics Research\",\n",
    "    \"Heating up Research with Data and FHIR\",\n",
    "    \"Making Sense of Data with Visualizations\",\n",
    "    \"Natural Language Processing at Scale\",\n",
    "    \"Text Processing for Clinical Notes and Beyond\",\n",
    "    \"Applied Natural Language Processing\",\n",
    "    \"Full Steam Ahead for Clinical Trials and Real World Data\",\n",
    "    \"Social Determinants of Health: Addressing Disparities and Bias\",\n",
    "    \"Integrating Patient Perspectives and Ancillary Data Sources\",\n",
    "    \"Moving Beyond Bias and Disparities: Informatics for a Better Tomorrow\",\n",
    "    \"Infrastructure and New Insights for COVID-19\",\n",
    "    \"See What We Did Here? Imaging for Research and Beyond\",\n",
    "    \"Models and More in Deep Learning\",\n",
    "    \"Putting Machine Learning to Work in Research\",\n",
    "    \"Machine Learning for Predictions\",\n",
    "    \"Machine Learning for New Insights\",\n",
    "    \"Language Matters: New Models and Methods\"\n",
    "]\n",
    "\"\"\"\n",
    "\n",
    "session_names = {}\n",
    "\n",
    "for cluster, group in tqdm(df.groupby('GPT_cluster')):\n",
    "\n",
    "    paper_info = ''\n",
    "    for i in range(6):\n",
    "        paper_info += \"paper #{}: \\n{} \\n\".format(str(i+1), group.txt.iloc[i])\n",
    "\n",
    "\n",
    "    post = {\n",
    "          \"model\": \"gpt-4-1106-preview\", # \"gpt-3.5-turbo-1106\",\n",
    "          \"messages\": [\n",
    "            {\"role\": \"system\", \"content\":prompt},\n",
    "            {\"role\": \"user\", \"content\":paper_info}]}\n",
    "    \n",
    "    response = requests.post(\"https://api.openai.com/v1/chat/completions\", \n",
    "                             headers=headers, json=post)\n",
    "\n",
    "    name = response.json()['choices'][0]['message']['content'].strip()\n",
    "\n",
    "    session_names[cluster] = name\n",
    "\n",
    "    time.sleep(5.0)\n",
    "\n",
    "\n",
    "    "
   ]
  },
  {
   "cell_type": "code",
   "execution_count": null,
   "id": "9999da1b-eec0-4d79-a52a-b3d2bd02fbd1",
   "metadata": {},
   "outputs": [],
   "source": [
    "#gpt-4-1106-preview\n",
    "session_names"
   ]
  },
  {
   "cell_type": "code",
   "execution_count": null,
   "id": "20c15cb1-cd05-4b35-aeef-1673aa866a6b",
   "metadata": {},
   "outputs": [],
   "source": [
    "df = df.merge(pd.DataFrame(list(session_names.items()), columns=['GPT_cluster', 'GPT_session_name']))"
   ]
  },
  {
   "cell_type": "code",
   "execution_count": null,
   "id": "a2a2cf3c-f2c8-4277-8a56-a4f0ff6d6f8f",
   "metadata": {},
   "outputs": [],
   "source": [
    "df.to_csv('clustered_accepted_paper_podium.csv')"
   ]
  }
 ],
 "metadata": {
  "kernelspec": {
   "display_name": "Python 3 (ipykernel)",
   "language": "python",
   "name": "python3"
  },
  "language_info": {
   "codemirror_mode": {
    "name": "ipython",
    "version": 3
   },
   "file_extension": ".py",
   "mimetype": "text/x-python",
   "name": "python",
   "nbconvert_exporter": "python",
   "pygments_lexer": "ipython3",
   "version": "3.8.18"
  }
 },
 "nbformat": 4,
 "nbformat_minor": 5
}
