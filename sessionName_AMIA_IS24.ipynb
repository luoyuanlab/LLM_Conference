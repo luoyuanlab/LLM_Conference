{
 "cells": [
  {
   "cell_type": "code",
   "execution_count": 1,
   "id": "58f29e64-5e13-49e2-b3cf-64233e133977",
   "metadata": {},
   "outputs": [],
   "source": [
    "import pandas as pd\n",
    "import numpy as np\n",
    "from tqdm import tqdm"
   ]
  },
  {
   "cell_type": "code",
   "execution_count": 2,
   "id": "d640730d-c406-47f7-a139-99b57581dd0c",
   "metadata": {},
   "outputs": [],
   "source": [
    "df = pd.read_csv('clustered_accepted_paper_podium.csv', index_col=0)"
   ]
  },
  {
   "cell_type": "code",
   "execution_count": 3,
   "id": "f7a6888c-3c38-4832-a899-2e3216cf1330",
   "metadata": {},
   "outputs": [],
   "source": [
    "df['txt'] = ('TITLE: ' + df.submission_TITLE + '\\nABSTRACT: '+df.submission_ABSTRACT).tolist()"
   ]
  },
  {
   "cell_type": "code",
   "execution_count": 4,
   "id": "f0deebaa-5cff-45a6-bae3-c73e7b4e00a5",
   "metadata": {},
   "outputs": [
    {
     "name": "stderr",
     "output_type": "stream",
     "text": [
      "100%|██████████████████████████████████████████████████████████████████████████████████| 24/24 [02:53<00:00,  7.23s/it]\n"
     ]
    }
   ],
   "source": [
    "import requests\n",
    "import json\n",
    "import time\n",
    "\n",
    "access_token = \"sk-xxx\" # please replace with your openai token\n",
    "headers = {\n",
    "    'Content-Type': 'application/json',\n",
    "    'Authorization': f'Bearer {access_token}'\n",
    "}\n",
    "\n",
    "prompt = \"\"\"\n",
    "The user will paste the titles and abstracts of 6 papers for a conference session.\n",
    "Please generate a name for that session.\n",
    "The session name should be concise, catchy, inspiring and reflecting the content of the 6 papers in that session. \n",
    "The session name should be less than 10 words.\n",
    "Please only return the session name in your response.\n",
    "Below are a few examples of session names, you do not have to select from these examples:\n",
    "\n",
    "[\n",
    "    \"Making Sense of COVID Data\",\n",
    "    \"New and Intriguing Prediction Models\",\n",
    "    \"Enterprise Data Warehouses for Research (EDW4R)\",\n",
    "    \"Applied Decision Support for the Greater Good\",\n",
    "    \"New Gemstones from Data Mining\",\n",
    "    \"Fast Lane to Discovery for Clinical Trial Recruitment\",\n",
    "    \"Phenotypes, Models and Cohorts: The Whopper\",\n",
    "    \"The Many Faces of Digital Medicine\",\n",
    "    \"Building our House: Infrastructure and Informatics\",\n",
    "    \"Analyzing Drug Effects and Finding New Uses\",\n",
    "    \"COVID Predictions: New Methods and Applications\",\n",
    "    \"Patient Engagement in Research and Care\",\n",
    "    \"At the Summit of Omics and Informatics Research\",\n",
    "    \"Heating up Research with Data and FHIR\",\n",
    "    \"Making Sense of Data with Visualizations\",\n",
    "    \"Natural Language Processing at Scale\",\n",
    "    \"Text Processing for Clinical Notes and Beyond\",\n",
    "    \"Applied Natural Language Processing\",\n",
    "    \"Full Steam Ahead for Clinical Trials and Real World Data\",\n",
    "    \"Social Determinants of Health: Addressing Disparities and Bias\",\n",
    "    \"Integrating Patient Perspectives and Ancillary Data Sources\",\n",
    "    \"Moving Beyond Bias and Disparities: Informatics for a Better Tomorrow\",\n",
    "    \"Infrastructure and New Insights for COVID-19\",\n",
    "    \"See What We Did Here? Imaging for Research and Beyond\",\n",
    "    \"Models and More in Deep Learning\",\n",
    "    \"Putting Machine Learning to Work in Research\",\n",
    "    \"Machine Learning for Predictions\",\n",
    "    \"Machine Learning for New Insights\",\n",
    "    \"Language Matters: New Models and Methods\"\n",
    "]\n",
    "\"\"\"\n",
    "\n",
    "session_names = {}\n",
    "\n",
    "for cluster, group in tqdm(df.groupby('GPT_cluster')):\n",
    "\n",
    "    paper_info = ''\n",
    "    for i in range(6):\n",
    "        paper_info += \"paper #{}: \\n{} \\n\".format(str(i+1), group.txt.iloc[i])\n",
    "\n",
    "\n",
    "    post = {\n",
    "          \"model\": \"gpt-4-1106-preview\", # \"gpt-3.5-turbo-1106\",\n",
    "          \"messages\": [\n",
    "            {\"role\": \"system\", \"content\":prompt},\n",
    "            {\"role\": \"user\", \"content\":paper_info}]}\n",
    "    \n",
    "    response = requests.post(\"https://api.openai.com/v1/chat/completions\", \n",
    "                             headers=headers, json=post)\n",
    "\n",
    "    name = response.json()['choices'][0]['message']['content'].strip()\n",
    "\n",
    "    session_names[cluster] = name\n",
    "\n",
    "    time.sleep(5.0)\n",
    "\n",
    "\n",
    "    "
   ]
  },
  {
   "cell_type": "code",
   "execution_count": 46,
   "id": "f2fc32c1-4758-4f5e-bf67-40b5b58207c5",
   "metadata": {},
   "outputs": [
    {
     "data": {
      "text/plain": [
       "{0: '\"Pathology Image Intelligence and Visualization\"',\n",
       " 1: '\"Biomedical Knowledge Extraction and Relation Classification Advancements\"',\n",
       " 2: '\"Optimizing Diagnostic Workflows and Improving Patient Outcomes\"',\n",
       " 3: '\"SDoH: Insights, Interpretations, and Innovations\"',\n",
       " 4: '\"Enhancing Healthcare Predictions with Machine Learning Insights\"',\n",
       " 5: '\"Neurological Disease Subtyping and Predictive Imaging Analysis\"',\n",
       " 6: '\"Unraveling Complexities: Insights Across Genetic, Structural, and Clinical Data\"',\n",
       " 7: '\"Empowering Clinical NLP with Large Language Models\"',\n",
       " 8: '\"Fairness and Equity in Healthcare Predictive Modeling\"',\n",
       " 9: '\"Substance Use Phenotypes and Predictive Modeling in Youth Health\"',\n",
       " 10: '\"AI-Driven Healthcare Innovations: Beyond Text Simplification\"',\n",
       " 11: '\"Predictive Analytics in Clinical Neurology and Cardiology\"',\n",
       " 12: '\"Multimodal Data Integration for Health Insights\"',\n",
       " 13: '\"Enhancing Interoperability and Clinical Decision Support with FHIR\"',\n",
       " 14: '\"Unraveling Complex Disease Pathways and Interrelations\"',\n",
       " 15: '\"Advancing Healthcare Through NLP and Automation\"',\n",
       " 16: '\"Healthcare Language Models: Enhancing Performance and Insight\"',\n",
       " 17: '\"Enhancing Clinical Insights through Automated Informatics\"',\n",
       " 18: '\"Enhancing Health Information Systems: Novel Approaches and Insights\"',\n",
       " 19: '\"Real-world Data Challenges and Innovations\"',\n",
       " 20: '\"Diverse Insights from EHR Data: Uncovering Associations and Subpopulations\"',\n",
       " 21: '\"Enhancing Mental Health Care Through Narrative Analysis\"',\n",
       " 22: '\"Bridging Healthcare Gaps with Innovative Solutions\"',\n",
       " 23: '\"Enhancing Biomedical Predictive Models with Multi-Modal Fusion\"'}"
      ]
     },
     "execution_count": 46,
     "metadata": {},
     "output_type": "execute_result"
    }
   ],
   "source": [
    "#gpt-3.5-turbo-1106\n",
    "session_names_old"
   ]
  },
  {
   "cell_type": "code",
   "execution_count": 5,
   "id": "9999da1b-eec0-4d79-a52a-b3d2bd02fbd1",
   "metadata": {},
   "outputs": [
    {
     "data": {
      "text/plain": [
       "{0: '\"Advances in Machine Learning for Pathology and Dermoscopy\"',\n",
       " 1: '\"Advances in Biomedical NLP and Knowledge Extraction\"',\n",
       " 2: '\"Advancing Clinical Quality: Innovative Measurement and Workflow Solutions\"',\n",
       " 3: '\"Advancing Health Equity through SDoH Informatics\"',\n",
       " 4: '\"Enhancing Clinical Outcomes with Interpretable Machine Learning\"',\n",
       " 5: '\"Neuroinformatics: Decoding Brain Disorders and Injury\"',\n",
       " 6: '\"Genomic Insights and Precision Medicine: From Data to Therapy\"',\n",
       " 7: '\"Advancing Healthcare with Large Language Model NLP\"',\n",
       " 8: 'Equitable and Fair Machine Learning in Healthcare',\n",
       " 9: '\"Advancing Healthcare: Machine Learning for Opioid Management\"',\n",
       " 10: '\"AI in Healthcare: GPT Models Enhancing Medical Insights\"',\n",
       " 11: '\"AI-Driven Advances in Cardiovascular and Neurological Monitoring\"',\n",
       " 12: '\"Transformative Approaches in Cancer Informatics and Bioinformatics\"',\n",
       " 13: '\"Interoperability and FHIR in Global Health Informatics\"',\n",
       " 14: '\"Deciphering Complex Diseases through Multi-Omics and AI\"',\n",
       " 15: '\"Revolutionizing Healthcare: NLP and Augmented Reality Innovations\"',\n",
       " 16: '\"Enhancing Healthcare with Advanced NLP and LLMs\"',\n",
       " 17: '\"Advancements in Clinical Data Insights and Informatics\"',\n",
       " 18: '\"Data-Driven Health Informatics for Personalized Care\"',\n",
       " 19: '\"Optimizing EHR Data for Clinical Phenotyping and Research\"',\n",
       " 20: '\"EHR Data Analysis for Diverse Patient Populations and Outcomes\"',\n",
       " 21: '\"Enhancing Caregiver Support through Health Informatics\"',\n",
       " 22: '\"Enhancing Healthcare Access and Efficiency through Innovative Models\"',\n",
       " 23: '\"Enhancing Clinical Decisions: Multimodal Data and Predictive Models\"'}"
      ]
     },
     "execution_count": 5,
     "metadata": {},
     "output_type": "execute_result"
    }
   ],
   "source": [
    "#gpt-4-1106-preview\n",
    "session_names"
   ]
  },
  {
   "cell_type": "code",
   "execution_count": 47,
   "id": "20c15cb1-cd05-4b35-aeef-1673aa866a6b",
   "metadata": {},
   "outputs": [],
   "source": [
    "df = df.merge(pd.DataFrame(list(session_names.items()), columns=['GPT_cluster', 'GPT_session_name']))"
   ]
  },
  {
   "cell_type": "code",
   "execution_count": 48,
   "id": "a2a2cf3c-f2c8-4277-8a56-a4f0ff6d6f8f",
   "metadata": {},
   "outputs": [],
   "source": [
    "df.to_csv('clustered_accepted_paper_podium.csv')"
   ]
  },
  {
   "cell_type": "code",
   "execution_count": null,
   "id": "6d124de7-f496-4417-80ec-87150915c6f1",
   "metadata": {},
   "outputs": [],
   "source": []
  }
 ],
 "metadata": {
  "kernelspec": {
   "display_name": "Python 3 (ipykernel)",
   "language": "python",
   "name": "python3"
  },
  "language_info": {
   "codemirror_mode": {
    "name": "ipython",
    "version": 3
   },
   "file_extension": ".py",
   "mimetype": "text/x-python",
   "name": "python",
   "nbconvert_exporter": "python",
   "pygments_lexer": "ipython3",
   "version": "3.8.18"
  }
 },
 "nbformat": 4,
 "nbformat_minor": 5
}
